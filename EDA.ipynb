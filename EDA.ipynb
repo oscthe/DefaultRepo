{
 "cells": [
  {
   "cell_type": "code",
   "execution_count": 1,
   "metadata": {},
   "outputs": [],
   "source": [
    "import pandas as pd\n",
    "import numpy as np\n",
    "import matplotlib.pyplot as plt\n",
    "import seaborn as sns\n",
    "\n",
    "from sklearn.compose import ColumnTransformer\n",
    "from sklearn.pipeline import Pipeline\n",
    "from sklearn.impute import SimpleImputer\n",
    "from sklearn.preprocessing import StandardScaler, Normalizer, LabelEncoder, OneHotEncoder\n",
    "from sklearn.model_selection import train_test_split\n",
    "from sklearn.pipeline import make_pipeline\n",
    "from sklearn.linear_model import LogisticRegression\n",
    "from sklearn.metrics import roc_auc_score, roc_curve"
   ]
  },
  {
   "cell_type": "code",
   "execution_count": 2,
   "metadata": {},
   "outputs": [],
   "source": [
    "df = pd.read_csv(\"bank.csv\")"
   ]
  },
  {
   "cell_type": "code",
   "execution_count": 3,
   "metadata": {},
   "outputs": [
    {
     "data": {
      "text/html": [
       "<div>\n",
       "<style scoped>\n",
       "    .dataframe tbody tr th:only-of-type {\n",
       "        vertical-align: middle;\n",
       "    }\n",
       "\n",
       "    .dataframe tbody tr th {\n",
       "        vertical-align: top;\n",
       "    }\n",
       "\n",
       "    .dataframe thead th {\n",
       "        text-align: right;\n",
       "    }\n",
       "</style>\n",
       "<table border=\"1\" class=\"dataframe\">\n",
       "  <thead>\n",
       "    <tr style=\"text-align: right;\">\n",
       "      <th></th>\n",
       "      <th>loan_applicant_id</th>\n",
       "      <th>age</th>\n",
       "      <th>education</th>\n",
       "      <th>years_with_current_employer</th>\n",
       "      <th>years_at_current_address</th>\n",
       "      <th>household_income</th>\n",
       "      <th>debt_to_income_ratio</th>\n",
       "      <th>credit_card_debt</th>\n",
       "      <th>other_debt</th>\n",
       "      <th>y</th>\n",
       "    </tr>\n",
       "  </thead>\n",
       "  <tbody>\n",
       "    <tr>\n",
       "      <th>0</th>\n",
       "      <td>191</td>\n",
       "      <td>44</td>\n",
       "      <td>university.degree</td>\n",
       "      <td>10</td>\n",
       "      <td>20</td>\n",
       "      <td>192</td>\n",
       "      <td>12.116645</td>\n",
       "      <td>14.377313</td>\n",
       "      <td>8.886645</td>\n",
       "      <td>1</td>\n",
       "    </tr>\n",
       "    <tr>\n",
       "      <th>1</th>\n",
       "      <td>34318</td>\n",
       "      <td>34</td>\n",
       "      <td>high.school</td>\n",
       "      <td>3</td>\n",
       "      <td>18</td>\n",
       "      <td>57</td>\n",
       "      <td>14.264229</td>\n",
       "      <td>5.137880</td>\n",
       "      <td>2.992730</td>\n",
       "      <td>0</td>\n",
       "    </tr>\n",
       "    <tr>\n",
       "      <th>2</th>\n",
       "      <td>14932</td>\n",
       "      <td>45</td>\n",
       "      <td>university.degree</td>\n",
       "      <td>14</td>\n",
       "      <td>24</td>\n",
       "      <td>212</td>\n",
       "      <td>7.285681</td>\n",
       "      <td>10.460306</td>\n",
       "      <td>4.985339</td>\n",
       "      <td>0</td>\n",
       "    </tr>\n",
       "    <tr>\n",
       "      <th>3</th>\n",
       "      <td>2776</td>\n",
       "      <td>33</td>\n",
       "      <td>illiterate</td>\n",
       "      <td>12</td>\n",
       "      <td>5</td>\n",
       "      <td>418</td>\n",
       "      <td>11.386272</td>\n",
       "      <td>3.040189</td>\n",
       "      <td>44.554429</td>\n",
       "      <td>1</td>\n",
       "    </tr>\n",
       "    <tr>\n",
       "      <th>4</th>\n",
       "      <td>11915</td>\n",
       "      <td>20</td>\n",
       "      <td>basic</td>\n",
       "      <td>4</td>\n",
       "      <td>19</td>\n",
       "      <td>122</td>\n",
       "      <td>28.418494</td>\n",
       "      <td>14.560450</td>\n",
       "      <td>20.110112</td>\n",
       "      <td>0</td>\n",
       "    </tr>\n",
       "  </tbody>\n",
       "</table>\n",
       "</div>"
      ],
      "text/plain": [
       "   loan_applicant_id  age          education  years_with_current_employer  \\\n",
       "0                191   44  university.degree                           10   \n",
       "1              34318   34        high.school                            3   \n",
       "2              14932   45  university.degree                           14   \n",
       "3               2776   33         illiterate                           12   \n",
       "4              11915   20              basic                            4   \n",
       "\n",
       "   years_at_current_address  household_income  debt_to_income_ratio  \\\n",
       "0                        20               192             12.116645   \n",
       "1                        18                57             14.264229   \n",
       "2                        24               212              7.285681   \n",
       "3                         5               418             11.386272   \n",
       "4                        19               122             28.418494   \n",
       "\n",
       "   credit_card_debt  other_debt  y  \n",
       "0         14.377313    8.886645  1  \n",
       "1          5.137880    2.992730  0  \n",
       "2         10.460306    4.985339  0  \n",
       "3          3.040189   44.554429  1  \n",
       "4         14.560450   20.110112  0  "
      ]
     },
     "execution_count": 3,
     "metadata": {},
     "output_type": "execute_result"
    }
   ],
   "source": [
    "df.head()"
   ]
  },
  {
   "cell_type": "code",
   "execution_count": 4,
   "metadata": {},
   "outputs": [
    {
     "name": "stdout",
     "output_type": "stream",
     "text": [
      "<class 'pandas.core.frame.DataFrame'>\n",
      "RangeIndex: 41188 entries, 0 to 41187\n",
      "Data columns (total 10 columns):\n",
      "loan_applicant_id              41188 non-null int64\n",
      "age                            41188 non-null int64\n",
      "education                      41188 non-null object\n",
      "years_with_current_employer    41188 non-null int64\n",
      "years_at_current_address       41188 non-null int64\n",
      "household_income               41188 non-null int64\n",
      "debt_to_income_ratio           41188 non-null float64\n",
      "credit_card_debt               41188 non-null float64\n",
      "other_debt                     41188 non-null float64\n",
      "y                              41188 non-null int64\n",
      "dtypes: float64(3), int64(6), object(1)\n",
      "memory usage: 3.1+ MB\n"
     ]
    }
   ],
   "source": [
    "df.info()"
   ]
  },
  {
   "cell_type": "markdown",
   "metadata": {},
   "source": [
    "### EDA"
   ]
  },
  {
   "cell_type": "code",
   "execution_count": 5,
   "metadata": {},
   "outputs": [
    {
     "data": {
      "text/plain": [
       "education\n",
       "basic                  0.112558\n",
       "high.school            0.112296\n",
       "illiterate             0.116137\n",
       "professional.course    0.109208\n",
       "university.degree      0.113082\n",
       "Name: y, dtype: float64"
      ]
     },
     "execution_count": 5,
     "metadata": {},
     "output_type": "execute_result"
    }
   ],
   "source": [
    "df.groupby('education')['y'].mean()"
   ]
  },
  {
   "cell_type": "code",
   "execution_count": 6,
   "metadata": {},
   "outputs": [
    {
     "data": {
      "text/plain": [
       "<matplotlib.axes._subplots.AxesSubplot at 0x1a1f88bfd0>"
      ]
     },
     "execution_count": 6,
     "metadata": {},
     "output_type": "execute_result"
    },
    {
     "data": {
      "image/png": "[encoded data removed]",
      "text/plain": [
       "<Figure size 432x288 with 1 Axes>"
      ]
     },
     "metadata": {
      "needs_background": "light"
     },
     "output_type": "display_data"
    }
   ],
   "source": [
    "sns.histplot(data=df, x=\"age\")"
   ]
  },
  {
   "cell_type": "code",
   "execution_count": 7,
   "metadata": {},
   "outputs": [
    {
     "data": {
      "text/plain": [
       "<matplotlib.axes._subplots.AxesSubplot at 0x1a217b3dd0>"
      ]
     },
     "execution_count": 7,
     "metadata": {},
     "output_type": "execute_result"
    },
    {
     "data": {
      "image/png": "[encoded data removed]",
      "text/plain": [
       "<Figure size 432x288 with 1 Axes>"
      ]
     },
     "metadata": {
      "needs_background": "light"
     },
     "output_type": "display_data"
    }
   ],
   "source": [
    "sns.histplot(data=df, x=\"years_with_current_employer\")"
   ]
  },
  {
   "cell_type": "code",
   "execution_count": 8,
   "metadata": {},
   "outputs": [
    {
     "data": {
      "text/plain": [
       "<matplotlib.axes._subplots.AxesSubplot at 0x1a2016b9d0>"
      ]
     },
     "execution_count": 8,
     "metadata": {},
     "output_type": "execute_result"
    },
    {
     "data": {
      "image/png": "[encoded data removed]",
      "text/plain": [
       "<Figure size 432x288 with 1 Axes>"
      ]
     },
     "metadata": {
      "needs_background": "light"
     },
     "output_type": "display_data"
    }
   ],
   "source": [
    "sns.histplot(data=df, x=\"years_at_current_address\")"
   ]
  },
  {
   "cell_type": "code",
   "execution_count": 9,
   "metadata": {},
   "outputs": [
    {
     "data": {
      "text/plain": [
       "<matplotlib.axes._subplots.AxesSubplot at 0x1a202f4110>"
      ]
     },
     "execution_count": 9,
     "metadata": {},
     "output_type": "execute_result"
    },
    {
     "data": {
      "image/png": "[encoded data removed]",
      "text/plain": [
       "<Figure size 432x288 with 1 Axes>"
      ]
     },
     "metadata": {
      "needs_background": "light"
     },
     "output_type": "display_data"
    }
   ],
   "source": [
    "sns.histplot(data=df, x=\"household_income\")"
   ]
  },
  {
   "cell_type": "code",
   "execution_count": 10,
   "metadata": {},
   "outputs": [
    {
     "data": {
      "text/plain": [
       "<matplotlib.axes._subplots.AxesSubplot at 0x1a20598590>"
      ]
     },
     "execution_count": 10,
     "metadata": {},
     "output_type": "execute_result"
    },
    {
     "data": {
      "image/png": "[encoded data removed]",
      "text/plain": [
       "<Figure size 432x288 with 1 Axes>"
      ]
     },
     "metadata": {
      "needs_background": "light"
     },
     "output_type": "display_data"
    }
   ],
   "source": [
    "sns.histplot(data=df, x=\"debt_to_income_ratio\")"
   ]
  },
  {
   "cell_type": "code",
   "execution_count": 11,
   "metadata": {},
   "outputs": [
    {
     "data": {
      "text/plain": [
       "<matplotlib.axes._subplots.AxesSubplot at 0x1a20909750>"
      ]
     },
     "execution_count": 11,
     "metadata": {},
     "output_type": "execute_result"
    },
    {
     "data": {
      "image/png": "[encoded data removed]",
      "text/plain": [
       "<Figure size 432x288 with 1 Axes>"
      ]
     },
     "metadata": {
      "needs_background": "light"
     },
     "output_type": "display_data"
    }
   ],
   "source": [
    "sns.histplot(data=df, x=\"credit_card_debt\")"
   ]
  },
  {
   "cell_type": "code",
   "execution_count": 12,
   "metadata": {},
   "outputs": [
    {
     "data": {
      "text/plain": [
       "<matplotlib.axes._subplots.AxesSubplot at 0x1a20c23050>"
      ]
     },
     "execution_count": 12,
     "metadata": {},
     "output_type": "execute_result"
    },
    {
     "data": {
      "image/png": "[encoded data removed]",
      "text/plain": [
       "<Figure size 432x288 with 1 Axes>"
      ]
     },
     "metadata": {
      "needs_background": "light"
     },
     "output_type": "display_data"
    }
   ],
   "source": [
    "sns.histplot(data=df, x=\"other_debt\")"
   ]
  },
  {
   "cell_type": "markdown",
   "metadata": {},
   "source": [
    "### Missing Values Analysis"
   ]
  },
  {
   "cell_type": "code",
   "execution_count": 13,
   "metadata": {},
   "outputs": [
    {
     "name": "stdout",
     "output_type": "stream",
     "text": [
      "Data has 41188 rows and 10 columns.\n"
     ]
    }
   ],
   "source": [
    "print(f\"Data has {df.shape[0]} rows and {df.shape[1]} columns.\")"
   ]
  },
  {
   "cell_type": "code",
   "execution_count": 14,
   "metadata": {},
   "outputs": [
    {
     "data": {
      "text/html": [
       "<div>\n",
       "<style scoped>\n",
       "    .dataframe tbody tr th:only-of-type {\n",
       "        vertical-align: middle;\n",
       "    }\n",
       "\n",
       "    .dataframe tbody tr th {\n",
       "        vertical-align: top;\n",
       "    }\n",
       "\n",
       "    .dataframe thead th {\n",
       "        text-align: right;\n",
       "    }\n",
       "</style>\n",
       "<table border=\"1\" class=\"dataframe\">\n",
       "  <thead>\n",
       "    <tr style=\"text-align: right;\">\n",
       "      <th></th>\n",
       "      <th>loan_applicant_id</th>\n",
       "      <th>age</th>\n",
       "      <th>years_with_current_employer</th>\n",
       "      <th>years_at_current_address</th>\n",
       "      <th>household_income</th>\n",
       "      <th>debt_to_income_ratio</th>\n",
       "      <th>credit_card_debt</th>\n",
       "      <th>other_debt</th>\n",
       "      <th>y</th>\n",
       "    </tr>\n",
       "  </thead>\n",
       "  <tbody>\n",
       "    <tr>\n",
       "      <th>count</th>\n",
       "      <td>41188.00000</td>\n",
       "      <td>41188.000000</td>\n",
       "      <td>41188.000000</td>\n",
       "      <td>41188.000000</td>\n",
       "      <td>41188.000000</td>\n",
       "      <td>41188.000000</td>\n",
       "      <td>41188.000000</td>\n",
       "      <td>41188.000000</td>\n",
       "      <td>41188.000000</td>\n",
       "    </tr>\n",
       "    <tr>\n",
       "      <th>mean</th>\n",
       "      <td>20594.50000</td>\n",
       "      <td>38.007842</td>\n",
       "      <td>13.549869</td>\n",
       "      <td>15.385331</td>\n",
       "      <td>139.707366</td>\n",
       "      <td>16.224054</td>\n",
       "      <td>9.577260</td>\n",
       "      <td>13.758168</td>\n",
       "      <td>0.112654</td>\n",
       "    </tr>\n",
       "    <tr>\n",
       "      <th>std</th>\n",
       "      <td>11890.09578</td>\n",
       "      <td>10.623627</td>\n",
       "      <td>8.145105</td>\n",
       "      <td>9.184471</td>\n",
       "      <td>81.688037</td>\n",
       "      <td>9.191426</td>\n",
       "      <td>12.408628</td>\n",
       "      <td>14.596510</td>\n",
       "      <td>0.316173</td>\n",
       "    </tr>\n",
       "    <tr>\n",
       "      <th>min</th>\n",
       "      <td>1.00000</td>\n",
       "      <td>20.000000</td>\n",
       "      <td>0.000000</td>\n",
       "      <td>0.000000</td>\n",
       "      <td>14.000000</td>\n",
       "      <td>0.400386</td>\n",
       "      <td>0.005668</td>\n",
       "      <td>0.021759</td>\n",
       "      <td>0.000000</td>\n",
       "    </tr>\n",
       "    <tr>\n",
       "      <th>25%</th>\n",
       "      <td>10297.75000</td>\n",
       "      <td>29.000000</td>\n",
       "      <td>6.000000</td>\n",
       "      <td>7.000000</td>\n",
       "      <td>74.000000</td>\n",
       "      <td>8.452497</td>\n",
       "      <td>1.853292</td>\n",
       "      <td>3.783906</td>\n",
       "      <td>0.000000</td>\n",
       "    </tr>\n",
       "    <tr>\n",
       "      <th>50%</th>\n",
       "      <td>20594.50000</td>\n",
       "      <td>38.000000</td>\n",
       "      <td>14.000000</td>\n",
       "      <td>15.000000</td>\n",
       "      <td>134.000000</td>\n",
       "      <td>16.105334</td>\n",
       "      <td>5.311447</td>\n",
       "      <td>9.153871</td>\n",
       "      <td>0.000000</td>\n",
       "    </tr>\n",
       "    <tr>\n",
       "      <th>75%</th>\n",
       "      <td>30891.25000</td>\n",
       "      <td>47.000000</td>\n",
       "      <td>21.000000</td>\n",
       "      <td>23.000000</td>\n",
       "      <td>196.000000</td>\n",
       "      <td>23.730786</td>\n",
       "      <td>12.636789</td>\n",
       "      <td>18.906855</td>\n",
       "      <td>0.000000</td>\n",
       "    </tr>\n",
       "    <tr>\n",
       "      <th>max</th>\n",
       "      <td>41188.00000</td>\n",
       "      <td>56.000000</td>\n",
       "      <td>29.000000</td>\n",
       "      <td>31.000000</td>\n",
       "      <td>446.000000</td>\n",
       "      <td>41.293984</td>\n",
       "      <td>149.015859</td>\n",
       "      <td>159.198221</td>\n",
       "      <td>1.000000</td>\n",
       "    </tr>\n",
       "  </tbody>\n",
       "</table>\n",
       "</div>"
      ],
      "text/plain": [
       "       loan_applicant_id           age  years_with_current_employer  \\\n",
       "count        41188.00000  41188.000000                 41188.000000   \n",
       "mean         20594.50000     38.007842                    13.549869   \n",
       "std          11890.09578     10.623627                     8.145105   \n",
       "min              1.00000     20.000000                     0.000000   \n",
       "25%          10297.75000     29.000000                     6.000000   \n",
       "50%          20594.50000     38.000000                    14.000000   \n",
       "75%          30891.25000     47.000000                    21.000000   \n",
       "max          41188.00000     56.000000                    29.000000   \n",
       "\n",
       "       years_at_current_address  household_income  debt_to_income_ratio  \\\n",
       "count              41188.000000      41188.000000          41188.000000   \n",
       "mean                  15.385331        139.707366             16.224054   \n",
       "std                    9.184471         81.688037              9.191426   \n",
       "min                    0.000000         14.000000              0.400386   \n",
       "25%                    7.000000         74.000000              8.452497   \n",
       "50%                   15.000000        134.000000             16.105334   \n",
       "75%                   23.000000        196.000000             23.730786   \n",
       "max                   31.000000        446.000000             41.293984   \n",
       "\n",
       "       credit_card_debt    other_debt             y  \n",
       "count      41188.000000  41188.000000  41188.000000  \n",
       "mean           9.577260     13.758168      0.112654  \n",
       "std           12.408628     14.596510      0.316173  \n",
       "min            0.005668      0.021759      0.000000  \n",
       "25%            1.853292      3.783906      0.000000  \n",
       "50%            5.311447      9.153871      0.000000  \n",
       "75%           12.636789     18.906855      0.000000  \n",
       "max          149.015859    159.198221      1.000000  "
      ]
     },
     "execution_count": 14,
     "metadata": {},
     "output_type": "execute_result"
    }
   ],
   "source": [
    "df.describe()"
   ]
  },
  {
   "cell_type": "code",
   "execution_count": 15,
   "metadata": {},
   "outputs": [
    {
     "data": {
      "text/plain": [
       "loan_applicant_id              0\n",
       "age                            0\n",
       "education                      0\n",
       "years_with_current_employer    0\n",
       "years_at_current_address       0\n",
       "household_income               0\n",
       "debt_to_income_ratio           0\n",
       "credit_card_debt               0\n",
       "other_debt                     0\n",
       "y                              0\n",
       "dtype: int64"
      ]
     },
     "execution_count": 15,
     "metadata": {},
     "output_type": "execute_result"
    }
   ],
   "source": [
    "df.isna().sum()"
   ]
  },
  {
   "cell_type": "markdown",
   "metadata": {},
   "source": [
    "## Feature Engineering, Scaling and Modelling"
   ]
  },
  {
   "cell_type": "code",
   "execution_count": 16,
   "metadata": {},
   "outputs": [],
   "source": [
    "# Dropping loan_applicant_id\n",
    "df.drop(\"loan_applicant_id\", axis=1, inplace=True)"
   ]
  },
  {
   "cell_type": "markdown",
   "metadata": {},
   "source": [
    "### Logistic Regression using standardization for numerical features"
   ]
  },
  {
   "cell_type": "markdown",
   "metadata": {},
   "source": [
    "#### Split data into train and test-samples"
   ]
  },
  {
   "cell_type": "code",
   "execution_count": 17,
   "metadata": {},
   "outputs": [],
   "source": [
    "y = df[\"y\"]\n",
    "X = df.drop(\"y\", axis=1)\n",
    "\n",
    "numerical_features = X.select_dtypes(include=['int64', 'float64']).columns\n",
    "categorical_features = X.select_dtypes(include=['object']).columns\n",
    "\n",
    "X_train, X_test, y_train, y_test = train_test_split(X, y, test_size=0.2, random_state=42)"
   ]
  },
  {
   "cell_type": "code",
   "execution_count": 18,
   "metadata": {},
   "outputs": [],
   "source": [
    "numeric_transformer = Pipeline(steps=[\n",
    "    ('imputer', SimpleImputer(strategy='mean')),\n",
    "    ('scaler', StandardScaler())\n",
    "    ])\n",
    "\n",
    "categorical_transformer = Pipeline(steps=[\n",
    "    ('imputer', SimpleImputer(strategy='most_frequent')),\n",
    "    ('onehot',  OneHotEncoder())\n",
    "    ])\n",
    "\n",
    "preprocessor = ColumnTransformer(transformers=[\n",
    "    ('num', numeric_transformer, numerical_features),\n",
    "    ('cat', categorical_transformer, categorical_features)\n",
    "])\n",
    "\n",
    "model = Pipeline(steps = [('preprocessor', preprocessor),\n",
    "                    ('classifier',LogisticRegression())\n",
    "                  ])\n",
    "\n",
    "model.fit(X_train, y_train)\n",
    "y_pred = model.predict_proba(X_test)[:,1]"
   ]
  },
  {
   "cell_type": "code",
   "execution_count": 19,
   "metadata": {},
   "outputs": [
    {
     "name": "stdout",
     "output_type": "stream",
     "text": [
      "The ROC-score is 0.8096555594582366.\n"
     ]
    },
    {
     "data": {
      "image/png": "[encoded data removed]",
      "text/plain": [
       "<Figure size 576x432 with 1 Axes>"
      ]
     },
     "metadata": {},
     "output_type": "display_data"
    }
   ],
   "source": [
    "score = roc_auc_score(y_test, y_pred)\n",
    "fpr, tpr, thresholds = roc_curve(y_test, y_pred)\n",
    "\n",
    "print(f\"The ROC-score is {score}.\")\n",
    "\n",
    "plt.style.use('seaborn-whitegrid')\n",
    "\n",
    "plt.figure(figsize=(8, 6))\n",
    "plt.plot(fpr, tpr, label='Model')\n",
    "plt.plot([0, 1], [0, 1], linestyle='--', lw=2, color='r', label='Random guess')\n",
    "plt.ylim([0,1])\n",
    "plt.title('ROC curve')\n",
    "plt.xlabel('False Positive Rate')\n",
    "plt.ylabel('True Positive Rate')\n",
    "plt.legend(bbox_to_anchor = (1.3, 0.6))\n",
    "plt.show()"
   ]
  },
  {
   "cell_type": "markdown",
   "metadata": {},
   "source": [
    "### Logistic Regression using Box-Cox Transformation"
   ]
  },
  {
   "cell_type": "markdown",
   "metadata": {},
   "source": [
    "##### Start with showing how Box-Cox Transformation visually using plots of before and after transformation\n",
    "This is just a visual example so I will use the whole dataset, thus not splitting into train and test-samples as one would do if used for modelling purposes. This is done later."
   ]
  },
  {
   "cell_type": "code",
   "execution_count": 20,
   "metadata": {},
   "outputs": [],
   "source": [
    "X = df.drop([\"y\"], axis=1)\n",
    "X = pd.get_dummies(X)\n",
    "X_tmp = X.select_dtypes([\"int64\", \"float64\"])"
   ]
  },
  {
   "cell_type": "code",
   "execution_count": 21,
   "metadata": {},
   "outputs": [],
   "source": [
    "from sklearn.preprocessing import PowerTransformer\n",
    "pt = PowerTransformer(method='yeo-johnson')\n",
    "X_tmp = pd.DataFrame(pt.fit_transform(X_tmp), columns=X.select_dtypes([\"int64\", \"float64\"]).columns)"
   ]
  },
  {
   "cell_type": "code",
   "execution_count": 22,
   "metadata": {},
   "outputs": [
    {
     "data": {
      "image/png": "[encoded data removed]",
      "text/plain": [
       "<Figure size 720x864 with 14 Axes>"
      ]
     },
     "metadata": {},
     "output_type": "display_data"
    }
   ],
   "source": [
    "fig, ax = plt.subplots(7, 2, figsize=(10, 12), constrained_layout = True)\n",
    "fig.suptitle('Left: Before Transformation | Right: After Transformation', fontsize=16)\n",
    "\n",
    "ax[0,0].hist(X.age, bins=50);\n",
    "ax[0,1].hist(X_tmp.age, bins=50);\n",
    "ax[1,0].hist(X.years_with_current_employer, bins=50);\n",
    "ax[1,1].hist(X_tmp.years_with_current_employer, bins=50);\n",
    "ax[2,0].hist(X.years_at_current_address, bins=50);\n",
    "ax[2,1].hist(X_tmp.years_at_current_address, bins=50);\n",
    "ax[3,0].hist(X.household_income, bins=50);\n",
    "ax[3,1].hist(X_tmp.household_income, bins=50);\n",
    "ax[4,0].hist(X.debt_to_income_ratio, bins=50);\n",
    "ax[4,1].hist(X_tmp.debt_to_income_ratio, bins=50);\n",
    "ax[5,0].hist(X.credit_card_debt, bins=50);\n",
    "ax[5,1].hist(X_tmp.credit_card_debt, bins=50);\n",
    "ax[6,0].hist(X.other_debt, bins=50);\n",
    "ax[6,1].hist(X_tmp.other_debt, bins=50);\n",
    "\n",
    "ax[0,0].title.set_text(\"age\")\n",
    "ax[0,1].title.set_text(\"age\")\n",
    "ax[1,0].title.set_text(\"years_with_current_employer\")\n",
    "ax[1,1].title.set_text(\"years_with_current_employer\")\n",
    "ax[2,0].title.set_text(\"years_at_current_address\")\n",
    "ax[2,1].title.set_text(\"years_at_current_address\")\n",
    "ax[3,0].title.set_text(\"household_income\")\n",
    "ax[3,1].title.set_text(\"household_income\")\n",
    "ax[4,0].title.set_text(\"debt_to_income_ratio\")\n",
    "ax[4,1].title.set_text(\"debt_to_income_ratio\")\n",
    "ax[5,0].title.set_text(\"credit_card_debt\")\n",
    "ax[5,1].title.set_text(\"credit_card_debt\")\n",
    "ax[6,0].title.set_text(\"other_debt\")\n",
    "ax[6,1].title.set_text(\"other_debt\")\n",
    "\n",
    "# fig.tight_layout()"
   ]
  },
  {
   "cell_type": "markdown",
   "metadata": {},
   "source": [
    "##### Implementing Box-Cox Transformation into modelling pipeline"
   ]
  },
  {
   "cell_type": "code",
   "execution_count": 23,
   "metadata": {},
   "outputs": [],
   "source": [
    "y = df[\"y\"]\n",
    "X = df.drop(\"y\", axis=1)\n",
    "\n",
    "numerical_features = X.select_dtypes(include=['int64', 'float64']).columns\n",
    "categorical_features = X.select_dtypes(include=['object']).columns\n",
    "\n",
    "X_train, X_test, y_train, y_test = train_test_split(X, y, test_size=0.2, random_state=42)"
   ]
  },
  {
   "cell_type": "code",
   "execution_count": 24,
   "metadata": {},
   "outputs": [],
   "source": [
    "numeric_transformer = Pipeline(steps=[\n",
    "    ('imputer', SimpleImputer(strategy='mean')),\n",
    "    ('scaler', PowerTransformer(method='yeo-johnson'))\n",
    "    ])\n",
    "\n",
    "categorical_transformer = Pipeline(steps=[\n",
    "    ('imputer', SimpleImputer(strategy='most_frequent')),\n",
    "    ('onehot',  OneHotEncoder())\n",
    "    ])\n",
    "\n",
    "preprocessor = ColumnTransformer(transformers=[\n",
    "    ('num', numeric_transformer, numerical_features),\n",
    "    ('cat', categorical_transformer, categorical_features)\n",
    "])\n",
    "\n",
    "model_power = Pipeline(steps = [('preprocessor', preprocessor),\n",
    "                    ('classifier',LogisticRegression())\n",
    "                  ])\n",
    "\n",
    "model_power.fit(X_train, y_train)\n",
    "y_pred_power = model.predict_proba(X_test)[:,1]"
   ]
  },
  {
   "cell_type": "code",
   "execution_count": 25,
   "metadata": {},
   "outputs": [
    {
     "name": "stdout",
     "output_type": "stream",
     "text": [
      "The ROC-score with power transformation is 0.8096555594582366.\n"
     ]
    }
   ],
   "source": [
    "score_power = roc_auc_score(y_test, y_pred_power)\n",
    "fpr_power, tpr_power, thresholds_power = roc_curve(y_test, y_pred_power)\n",
    "\n",
    "print(f\"The ROC-score with power transformation is {score_power}.\")"
   ]
  },
  {
   "cell_type": "markdown",
   "metadata": {},
   "source": [
    "### Logistic Regression using normalization for numerical features"
   ]
  },
  {
   "cell_type": "code",
   "execution_count": 26,
   "metadata": {},
   "outputs": [],
   "source": [
    "y = df[\"y\"]\n",
    "X = df.drop(\"y\", axis=1)\n",
    "\n",
    "numerical_features = X.select_dtypes(include=['int64', 'float64']).columns\n",
    "categorical_features = X.select_dtypes(include=['object']).columns\n",
    "\n",
    "X_train, X_test, y_train, y_test = train_test_split(X, y, test_size=0.2, random_state=42)"
   ]
  },
  {
   "cell_type": "code",
   "execution_count": 27,
   "metadata": {},
   "outputs": [],
   "source": [
    "numeric_transformer = Pipeline(steps=[\n",
    "    ('imputer', SimpleImputer(strategy='mean')),\n",
    "    ('scaler', Normalizer(norm='l1'))\n",
    "    ])\n",
    "\n",
    "categorical_transformer = Pipeline(steps=[\n",
    "    ('imputer', SimpleImputer(strategy='most_frequent')),\n",
    "    ('onehot',  OneHotEncoder())\n",
    "    ])\n",
    "\n",
    "preprocessor = ColumnTransformer(transformers=[\n",
    "    ('num', numeric_transformer, numerical_features),\n",
    "    ('cat', categorical_transformer, categorical_features)\n",
    "])\n",
    "\n",
    "model_N = Pipeline(steps = [('preprocessor', preprocessor),\n",
    "                    ('classifier',LogisticRegression(max_iter=1000))\n",
    "                  ])\n",
    "\n",
    "model_N.fit(X_train, y_train)\n",
    "y_pred_N = model.predict_proba(X_test)[:,1]"
   ]
  },
  {
   "cell_type": "code",
   "execution_count": 28,
   "metadata": {},
   "outputs": [
    {
     "name": "stdout",
     "output_type": "stream",
     "text": [
      "The ROC-score is 0.8096555594582366.\n"
     ]
    }
   ],
   "source": [
    "score_N = roc_auc_score(y_test, y_pred_N)\n",
    "fpr_N, tpr_N, thresholds_N = roc_curve(y_test, y_pred_N)\n",
    "\n",
    "print(f\"The ROC-score is {score_N}.\")\n"
   ]
  },
  {
   "cell_type": "code",
   "execution_count": null,
   "metadata": {},
   "outputs": [],
   "source": []
  }
 ],
 "metadata": {
  "interpreter": {
   "hash": "0d71906e98d8a48efe651bd3bc9549e1ad3b86d894d191acaed4eb8297587a9e"
  },
  "kernelspec": {
   "display_name": "Python 3.7.4 ('base')",
   "language": "python",
   "name": "python3"
  },
  "language_info": {
   "codemirror_mode": {
    "name": "ipython",
    "version": 3
   },
   "file_extension": ".py",
   "mimetype": "text/x-python",
   "name": "python",
   "nbconvert_exporter": "python",
   "pygments_lexer": "ipython3",
   "version": "3.7.4"
  },
  "orig_nbformat": 4
 },
 "nbformat": 4,
 "nbformat_minor": 2
}
